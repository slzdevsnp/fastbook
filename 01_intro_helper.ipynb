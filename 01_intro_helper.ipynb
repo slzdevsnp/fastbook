{
 "cells": [
  {
   "cell_type": "code",
   "execution_count": 4,
   "metadata": {},
   "outputs": [],
   "source": [
    "from fastbook import *\n",
    "from pprint import pprint as pp"
   ]
  },
  {
   "cell_type": "code",
   "execution_count": 2,
   "metadata": {},
   "outputs": [
    {
     "name": "stdout",
     "output_type": "stream",
     "text": [
      "tensor([[0.8823, 0.9150, 0.3829],\n",
      "        [0.9593, 0.3904, 0.6009],\n",
      "        [0.2566, 0.7936, 0.9408],\n",
      "        [0.1332, 0.9346, 0.5936],\n",
      "        [0.8694, 0.5677, 0.7411]])\n"
     ]
    },
    {
     "data": {
      "text/plain": [
       "True"
      ]
     },
     "execution_count": 2,
     "metadata": {},
     "output_type": "execute_result"
    }
   ],
   "source": [
    "#verify pytorch\n",
    "import torch\n",
    "x=torch.rand(5,3)\n",
    "print(x)\n",
    "torch.cuda.is_available()"
   ]
  },
  {
   "cell_type": "code",
   "execution_count": 11,
   "metadata": {},
   "outputs": [
    {
     "name": "stdout",
     "output_type": "stream",
     "text": [
      "'https://s3.amazonaws.com/fast-ai-imageclas/oxford-iiit-pet.tgz'\n",
      "Path('/home/zimine/.fastai/data/oxford-iiit-pet/images')\n"
     ]
    }
   ],
   "source": [
    "from fastai.vision.all import *\n",
    "#understand objects\n",
    "## URLs.PETS in fastai/data/external.py\n",
    "pp(URLs.PETS)\n",
    "##untar_data in external.py\n",
    "path = untar_data(URLs.PETS)/'images'\n",
    "pp(path)"
   ]
  },
  {
   "cell_type": "code",
   "execution_count": 12,
   "metadata": {},
   "outputs": [
    {
     "name": "stdout",
     "output_type": "stream",
     "text": [
      "<class 'fastai.data.core.DataLoaders'>\n",
      "<fastai.data.core.DataLoaders object at 0x7fa9215b0970>\n"
     ]
    }
   ],
   "source": [
    "def is_cat(x): return x[0].isupper()\n",
    "dls = ImageDataLoaders.from_name_func(\n",
    "    path, get_image_files(path), valid_pct=0.2, seed=42,\n",
    "    label_func=is_cat, item_tfms=Resize(224))\n",
    "\n",
    "pp(type(dls))\n",
    "pp(dls)"
   ]
  },
  {
   "cell_type": "code",
   "execution_count": 13,
   "metadata": {},
   "outputs": [
    {
     "name": "stdout",
     "output_type": "stream",
     "text": [
      "<class 'fastai.learner.Learner'>\n"
     ]
    }
   ],
   "source": [
    "#cats and dogs model\n",
    "learn = cnn_learner(dls, resnet34, metrics=error_rate)\n",
    "\n",
    "pp(type(learn))"
   ]
  },
  {
   "cell_type": "code",
   "execution_count": 14,
   "metadata": {},
   "outputs": [
    {
     "name": "stdout",
     "output_type": "stream",
     "text": [
      "namespace(data=['/home/zimine/images/fai/ch1/cats/cat1.jpg', '/home/zimine/images/fai/ch1/dogs/puppy1.jpg'])\n"
     ]
    }
   ],
   "source": [
    "uploader = SimpleNamespace(data = ['/home/zimine/images/fai/ch1/cats/cat1.jpg', '/home/zimine/images/fai/ch1/dogs/puppy1.jpg'])\n",
    "pp(uploader)"
   ]
  },
  {
   "cell_type": "code",
   "execution_count": 15,
   "metadata": {},
   "outputs": [
    {
     "name": "stdout",
     "output_type": "stream",
     "text": [
      "<class 'fastai.vision.core.PILImage'>\n"
     ]
    }
   ],
   "source": [
    "img1 = PILImage.create(uploader.data[0])\n",
    "pp(type(img1))"
   ]
  },
  {
   "cell_type": "code",
   "execution_count": null,
   "metadata": {},
   "outputs": [],
   "source": []
  }
 ],
 "metadata": {
  "kernelspec": {
   "display_name": "Python 3",
   "language": "python",
   "name": "python3"
  },
  "language_info": {
   "codemirror_mode": {
    "name": "ipython",
    "version": 3
   },
   "file_extension": ".py",
   "mimetype": "text/x-python",
   "name": "python",
   "nbconvert_exporter": "python",
   "pygments_lexer": "ipython3",
   "version": "3.8.5"
  }
 },
 "nbformat": 4,
 "nbformat_minor": 4
}
